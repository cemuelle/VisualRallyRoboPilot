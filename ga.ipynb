{
 "cells": [
  {
   "cell_type": "markdown",
   "metadata": {},
   "source": [
    "## GENETIC ALGORITHM"
   ]
  },
  {
   "cell_type": "code",
   "execution_count": null,
   "metadata": {},
   "outputs": [],
   "source": []
  },
  {
   "cell_type": "markdown",
   "metadata": {},
   "source": [
    "## Gather data\n",
    "\n",
    "Example for a turn in a road\n",
    "\n",
    "Visualize my data \n",
    "\n",
    "- Controls[forward,back,left,right]\n",
    "- Sequential Images \n",
    "- Link each image to a specific control\n",
    "\n",
    "\n",
    "Data Augmentation\n",
    "\n",
    "- Multiply the same trajectory from point A to point B.\n",
    "- This creates differents individual.\n",
    "\n",
    "Genetic Algorithm\n",
    "\n",
    "- Individual: each trajectory\n",
    "- Genome: each individual input which creates the trajectory\n",
    "- Population: Total of all the individual"
   ]
  },
  {
   "cell_type": "code",
   "execution_count": null,
   "metadata": {},
   "outputs": [],
   "source": []
  },
  {
   "cell_type": "code",
   "execution_count": 21,
   "metadata": {},
   "outputs": [],
   "source": [
    "import os\n",
    "import pickle\n",
    "import lzma\n",
    "import glob\n",
    "import numpy as np\n",
    "import json\n",
    "\n"
   ]
  },
  {
   "cell_type": "markdown",
   "metadata": {},
   "source": [
    "#Visualize and store data for each record"
   ]
  },
  {
   "cell_type": "code",
   "execution_count": 26,
   "metadata": {},
   "outputs": [],
   "source": [
    "\n",
    "\n",
    "# Find all .npz files\n",
    "files = glob.glob(\"data_trajectory_test/*.npz\")\n",
    "individual_controls = []\n",
    "\n",
    "# Iterate through each file (representing one individual)\n",
    "for i, file in enumerate(files):\n",
    "    with lzma.open(file, \"rb\") as f:\n",
    "        data = pickle.load(f)\n",
    "        \n",
    "        # Collect all current_controls from the records in this file\n",
    "        controls = [record.current_controls for record in data if hasattr(record, 'current_controls')]\n",
    "        \n",
    "        # Store in the list as a tuple (individual_id, controls)\n",
    "        individual_controls.append({\n",
    "            \"individual_id\":f\"individual{i}\",\n",
    "            \"controls\":controls\n",
    "        })\n",
    "\n",
    "output_data = {\n",
    "    \"total_individuals\": len(individual_controls),\n",
    "    \"individuals\": individual_controls\n",
    "}\n",
    "\n",
    "output_file = \"individual_controls.json\"\n",
    "with open(output_file, 'w') as json_file:\n",
    "    json.dump(output_data, json_file, indent=4)\n",
    "\n",
    "\n"
   ]
  },
  {
   "cell_type": "code",
   "execution_count": 3,
   "metadata": {},
   "outputs": [],
   "source": [
    "def load_data(path):\n",
    "\n",
    "    files = glob.glob(path)\n",
    "    individual_controls = []\n",
    "\n",
    "    # Iterate through each file (representing one individual)\n",
    "    for i, file in enumerate(files):\n",
    "        with lzma.open(file, \"rb\") as f:\n",
    "            data = pickle.load(f)\n",
    "            \n",
    "            # Collect all current_controls from the records in this file\n",
    "            controls = [record.current_controls for record in data if hasattr(record, 'current_controls')]\n",
    "            \n",
    "            # Store in the list as a tuple (individual_id, controls)\n",
    "            individual_controls.append((f'individual_{i}', controls))\n",
    "\n",
    "    # Print the number of individuals and the stored controls\n",
    "    print(f\"Total individuals: {len(individual_controls)}\")\n",
    "    print(\"\\nStored Controls:\")\n",
    "\n",
    "    # Print all the current_controls for each individual\n",
    "    for individual, controls in individual_controls:\n",
    "        print(f\"{individual}: {controls}\")\n",
    "\n",
    "    return individual_controls"
   ]
  },
  {
   "cell_type": "markdown",
   "metadata": {},
   "source": [
    "#Send data for simulation which will return the performance assigned to the individual"
   ]
  },
  {
   "cell_type": "code",
   "execution_count": null,
   "metadata": {},
   "outputs": [],
   "source": []
  },
  {
   "cell_type": "markdown",
   "metadata": {},
   "source": [
    "# Recv data for simulation"
   ]
  },
  {
   "cell_type": "code",
   "execution_count": 4,
   "metadata": {},
   "outputs": [
    {
     "name": "stdout",
     "output_type": "stream",
     "text": [
      "Individuals sorted by fitness score:\n",
      "Individual: individual_2, Fitness Score: 0.9544, Controls: [(0, 0, 0, 0), (0, 0, 0, 0), (0, 0, 0, 0), (0, 0, 0, 0), (1, 0, 0, 0), (1, 0, 0, 0), (1, 0, 0, 0), (1, 0, 0, 0), (1, 0, 0, 0), (1, 0, 1, 0), (1, 0, 0, 0), (1, 0, 0, 0), (1, 0, 0, 0), (1, 0, 0, 0), (1, 0, 0, 0), (1, 0, 1, 0), (1, 0, 0, 0), (1, 0, 0, 0), (1, 0, 1, 0), (1, 0, 0, 0), (0, 0, 1, 0), (0, 0, 1, 0), (0, 0, 1, 0), (0, 0, 1, 0), (0, 0, 0, 1), (0, 0, 0, 1), (0, 0, 0, 1), (0, 0, 0, 1), (0, 0, 1, 1), (0, 0, 1, 0), (0, 0, 1, 0), (0, 0, 1, 0), (0, 0, 1, 0), (0, 0, 1, 0), (0, 0, 1, 0), (0, 0, 1, 0), (0, 0, 1, 0), (0, 0, 1, 0), (1, 0, 1, 0), (1, 0, 0, 0), (1, 0, 0, 0), (1, 0, 0, 1), (0, 0, 0, 1), (0, 0, 0, 1), (0, 0, 0, 1), (0, 0, 0, 0), (0, 0, 0, 0), (0, 0, 0, 0), (0, 0, 0, 0), (0, 0, 0, 0)]\n",
      "Individual: individual_3, Fitness Score: 0.3601, Controls: [(0, 0, 0, 0), (0, 0, 0, 0), (0, 0, 0, 0), (0, 0, 0, 0), (0, 0, 0, 0), (0, 0, 0, 0), (0, 0, 0, 0), (0, 0, 0, 0), (0, 0, 0, 0), (0, 0, 0, 0), (0, 0, 0, 0), (0, 0, 0, 0), (0, 0, 0, 0), (0, 0, 0, 0), (0, 0, 1, 0), (0, 0, 1, 0), (1, 0, 1, 0), (1, 0, 1, 0), (0, 0, 1, 1), (1, 0, 1, 0), (1, 0, 0, 1), (0, 0, 0, 1), (0, 0, 1, 0), (0, 0, 1, 0), (0, 0, 1, 0), (0, 0, 1, 0), (0, 0, 1, 0), (1, 0, 1, 0), (1, 0, 0, 0), (1, 0, 0, 0), (1, 0, 0, 0), (1, 0, 0, 0), (1, 0, 0, 0), (1, 0, 0, 1), (0, 0, 0, 1), (0, 0, 1, 1), (0, 0, 1, 0), (0, 0, 1, 0), (0, 0, 1, 0), (0, 0, 1, 0), (0, 0, 1, 0), (1, 0, 0, 0), (1, 0, 0, 1), (0, 0, 0, 1), (0, 0, 0, 1), (0, 0, 0, 1), (0, 0, 0, 1), (0, 0, 1, 0), (0, 0, 1, 0), (0, 0, 1, 0), (0, 0, 1, 0), (0, 0, 1, 0), (0, 0, 1, 0), (0, 0, 0, 1), (0, 0, 0, 1), (1, 0, 0, 1), (1, 0, 1, 0), (0, 0, 1, 0), (1, 0, 1, 0), (1, 0, 0, 1), (0, 0, 1, 1), (1, 0, 1, 0), (1, 0, 0, 1), (1, 0, 0, 0), (0, 0, 0, 1), (0, 0, 1, 0), (0, 0, 1, 0), (0, 0, 1, 0), (0, 0, 1, 0), (0, 0, 0, 0), (0, 0, 0, 1), (0, 0, 0, 1), (0, 0, 0, 1), (0, 0, 1, 0), (0, 0, 1, 0), (0, 0, 1, 0), (0, 0, 1, 0), (1, 0, 0, 0), (1, 0, 0, 1), (0, 0, 0, 1), (0, 0, 0, 1), (0, 0, 1, 0), (0, 0, 1, 0), (0, 0, 1, 0), (0, 0, 0, 1), (1, 0, 0, 1), (1, 0, 0, 0), (1, 0, 0, 0), (0, 0, 1, 0), (0, 0, 1, 0), (0, 0, 0, 1), (0, 0, 0, 1), (0, 0, 0, 0), (0, 0, 1, 0), (0, 0, 1, 0), (0, 0, 0, 1), (0, 0, 0, 0), (0, 0, 0, 0), (0, 0, 0, 0), (0, 0, 0, 0), (0, 0, 0, 0), (0, 0, 0, 0), (0, 0, 0, 0), (0, 0, 0, 0), (0, 0, 0, 0), (0, 0, 0, 0), (0, 0, 0, 0)]\n",
      "Individual: individual_1, Fitness Score: 0.3176, Controls: [(0, 0, 0, 0), (0, 0, 0, 0), (0, 0, 0, 0), (0, 0, 0, 0), (0, 0, 0, 0), (0, 0, 0, 0), (0, 0, 0, 0), (0, 0, 0, 0), (0, 0, 0, 0), (0, 0, 0, 0), (0, 0, 0, 0), (0, 0, 0, 0), (0, 0, 0, 0), (1, 0, 0, 0), (1, 0, 0, 0), (0, 0, 0, 0), (0, 0, 0, 0), (0, 0, 0, 0), (1, 0, 0, 0), (1, 0, 0, 0), (1, 0, 0, 0), (1, 0, 1, 0), (1, 0, 1, 0), (1, 0, 0, 0), (1, 0, 0, 0), (1, 0, 0, 0), (1, 0, 0, 0), (1, 0, 0, 0), (1, 0, 0, 0), (1, 0, 0, 0), (1, 0, 0, 0), (1, 0, 0, 0), (1, 0, 0, 0), (1, 0, 0, 0), (1, 0, 1, 0), (0, 0, 1, 0), (0, 0, 1, 0), (0, 0, 1, 0), (1, 0, 1, 0), (1, 0, 1, 0), (1, 0, 0, 0), (1, 0, 0, 0), (1, 0, 0, 0), (1, 0, 0, 0), (1, 0, 0, 0), (1, 0, 0, 0), (1, 0, 0, 0), (0, 0, 0, 0), (0, 0, 0, 0), (0, 0, 0, 0), (0, 0, 0, 0), (0, 0, 0, 0), (0, 0, 0, 0), (0, 0, 0, 0), (0, 0, 0, 0), (0, 0, 0, 0), (0, 0, 0, 0)]\n",
      "Individual: individual_4, Fitness Score: 0.2616, Controls: [(0, 0, 0, 0), (0, 0, 0, 0), (0, 0, 0, 0), (0, 0, 0, 0), (0, 0, 0, 0), (0, 0, 0, 0), (0, 0, 0, 0), (1, 0, 0, 0), (1, 0, 0, 0), (1, 0, 0, 0), (1, 0, 0, 0), (1, 0, 1, 0), (1, 0, 1, 0), (1, 0, 1, 0), (1, 0, 0, 0), (1, 0, 0, 0), (1, 0, 0, 0), (1, 0, 0, 0), (1, 0, 0, 0), (1, 0, 0, 0), (1, 0, 0, 0), (1, 0, 0, 0), (1, 0, 0, 0), (1, 0, 1, 0), (1, 0, 0, 0), (1, 0, 0, 0), (1, 0, 0, 0), (1, 0, 1, 0), (1, 0, 1, 0), (1, 0, 1, 0), (1, 0, 1, 0), (1, 0, 0, 1), (0, 0, 0, 1), (0, 0, 1, 1), (0, 0, 1, 0), (0, 0, 1, 0), (0, 0, 1, 0), (0, 0, 1, 0), (0, 0, 1, 0), (1, 0, 0, 0), (1, 0, 0, 0), (1, 0, 0, 1), (0, 0, 0, 1), (0, 0, 0, 0), (0, 0, 0, 0), (0, 0, 0, 0), (0, 0, 0, 0), (0, 0, 0, 0), (0, 0, 0, 0), (0, 0, 0, 0), (0, 0, 0, 0), (0, 0, 0, 0), (0, 0, 0, 0), (0, 0, 0, 0), (0, 0, 0, 0), (0, 0, 0, 0)]\n",
      "Individual: individual_0, Fitness Score: 0.2492, Controls: [(0, 0, 0, 0), (0, 0, 0, 0), (0, 0, 0, 0), (0, 0, 0, 0), (0, 0, 0, 0), (0, 0, 0, 0), (0, 0, 0, 0), (0, 0, 0, 0), (1, 0, 0, 0), (1, 0, 0, 0), (1, 0, 0, 0), (1, 0, 0, 0), (1, 0, 0, 0), (1, 0, 0, 0), (0, 0, 0, 0), (0, 0, 1, 0), (1, 0, 1, 0), (1, 0, 0, 0), (0, 0, 0, 0), (0, 0, 0, 0), (1, 0, 0, 0), (1, 0, 0, 0), (1, 0, 0, 0), (0, 0, 0, 0), (0, 0, 0, 0), (0, 0, 0, 0), (0, 0, 1, 0), (0, 0, 0, 0), (1, 0, 0, 0), (0, 0, 0, 0), (1, 0, 0, 0), (0, 0, 0, 0), (1, 0, 0, 0), (1, 0, 0, 0), (0, 0, 1, 0), (0, 0, 1, 0), (0, 0, 0, 0), (0, 0, 1, 0), (0, 0, 1, 0), (1, 0, 1, 0), (0, 0, 1, 0), (0, 0, 0, 0), (0, 0, 0, 0), (0, 0, 0, 1), (0, 0, 0, 1), (0, 0, 0, 0), (0, 0, 0, 0), (0, 0, 0, 0), (0, 0, 1, 0), (0, 0, 0, 0), (0, 0, 0, 0), (0, 0, 0, 0), (0, 0, 0, 0), (0, 0, 0, 0), (0, 0, 0, 0), (0, 0, 0, 0), (0, 0, 0, 0), (0, 0, 0, 0), (0, 0, 0, 0), (0, 0, 0, 0), (0, 0, 0, 0), (0, 0, 0, 0), (0, 0, 0, 0), (0, 0, 0, 0), (0, 0, 0, 0), (0, 0, 0, 0), (0, 0, 0, 0), (0, 0, 0, 0), (0, 0, 0, 0), (0, 0, 0, 0), (0, 0, 0, 0), (0, 0, 0, 0), (0, 0, 0, 0), (0, 0, 0, 0), (0, 0, 0, 0), (0, 0, 0, 0)]\n"
     ]
    }
   ],
   "source": [
    "# Add some example of fitness score\n",
    "import random\n",
    "\n",
    "individual_with_scores = []\n",
    "\n",
    "# Generate random fitness score between 0 and 1 for each individual\n",
    "for individual, controls in individual_controls:\n",
    "    fitness_score = random.random()\n",
    "    individual_with_scores.append({\n",
    "        'individual': individual,\n",
    "        'controls': controls,\n",
    "        'fitness_score': fitness_score\n",
    "    })\n",
    "\n",
    "# Sort individuals by fitness score in descending order (highest fitness first)\n",
    "individual_with_scores.sort(key=lambda x: x['fitness_score'], reverse=True)\n",
    "\n",
    "# Print sorted individuals by fitness score\n",
    "print(\"Individuals sorted by fitness score:\")\n",
    "for entry in individual_with_scores:\n",
    "    print(f\"Individual: {entry['individual']}, Fitness Score: {entry['fitness_score']:.4f}, Controls: {entry['controls']}\")"
   ]
  },
  {
   "cell_type": "code",
   "execution_count": 5,
   "metadata": {},
   "outputs": [],
   "source": [
    "def add_fitness(pop):\n",
    "\n",
    "    individual_with_scores = []\n",
    "\n",
    "    for individual, controls in pop:\n",
    "        fitness_score = random.random()\n",
    "        individual_with_scores.append({\n",
    "        'individual': individual,\n",
    "        'controls': controls,\n",
    "        'fitness_score': fitness_score\n",
    "    })\n",
    "    \n",
    "    # Sort individuals by fitness score in descending order (highest fitness first)\n",
    "    individual_with_scores.sort(key=lambda x: x['fitness_score'], reverse=True)\n",
    "\n",
    "    # Print sorted individuals by fitness score\n",
    "    print(\"Individuals sorted by fitness score:\")\n",
    "    for entry in individual_with_scores:\n",
    "        print(f\"Individual: {entry['individual']}, Fitness Score: {entry['fitness_score']:.4f}, Controls: {entry['controls']}\")\n",
    "\n",
    "    return individual_with_scores"
   ]
  },
  {
   "cell_type": "markdown",
   "metadata": {},
   "source": [
    "### Elitism"
   ]
  },
  {
   "cell_type": "code",
   "execution_count": 6,
   "metadata": {},
   "outputs": [
    {
     "name": "stdout",
     "output_type": "stream",
     "text": [
      "Elites:\n",
      "Name: (0, 0, 0, 0)\n",
      "Controls: (0, 0, 0, 0)\n",
      "Fitness Score: 0.9544\n"
     ]
    }
   ],
   "source": [
    "# Assuming 'individual_with_scores' is a list of dictionaries like:\n",
    "# [{'name': 'child_1', 'controls': [(1, 0, 1, 0), ...], 'fitness_score': 0.85}, ...]\n",
    "\n",
    "# Set the elite count\n",
    "elite_count = 1\n",
    "\n",
    "# List to store elite individuals in the same structure as children\n",
    "elites = []\n",
    "\n",
    "# Select top elite_count individuals from the sorted population (from individual_with_scores)\n",
    "for i in range(min(elite_count, len(individual_with_scores))):\n",
    "    data = individual_with_scores[i]  # Accessing the dictionary with individual data\n",
    "    \n",
    "    controls = data['controls']  # Extract controls\n",
    "    \n",
    "    # Create the same structure as the child individuals (name, controls)\n",
    "    elites.append((controls))\n",
    "\n",
    "# Print the elites\n",
    "print(\"Elites:\")\n",
    "for elite in elites:\n",
    "    print(f\"Name: {elite[0]}\")\n",
    "    print(f\"Controls: {elite[1]}\")\n",
    "    print(f\"Fitness Score: {individual_with_scores[0]['fitness_score']:.4f}\")\n",
    "\n"
   ]
  },
  {
   "cell_type": "code",
   "execution_count": 7,
   "metadata": {},
   "outputs": [],
   "source": [
    "def elitism(pop, elitism_count):\n",
    "\n",
    "    elites = []\n",
    "        # Select top elite_count individuals from the sorted population (from individual_with_scores)\n",
    "    for i in range(min(elitism_count, len(pop))):\n",
    "        data = pop[i]  # Accessing the dictionary with individual data\n",
    "        \n",
    "        controls = data['controls']  # Extract controls\n",
    "        \n",
    "        # Create the same structure as the child individuals (name, controls)\n",
    "        elites.append(controls)\n",
    "\n",
    "    return elites\n"
   ]
  },
  {
   "cell_type": "markdown",
   "metadata": {},
   "source": [
    "### Crossover"
   ]
  },
  {
   "cell_type": "code",
   "execution_count": 8,
   "metadata": {},
   "outputs": [],
   "source": [
    "import random\n",
    "\n",
    "def crossover(parent1, parent2):\n",
    "    \"\"\"\n",
    "    Perform crossover between two parents by randomly choosing control elements from each parent.\n",
    "    \n",
    "    Parameters:\n",
    "    - parent1: List of control tuples for the first parent.\n",
    "    - parent2: List of control tuples for the second parent.\n",
    "    \n",
    "    Returns:\n",
    "    - child: New child created by selecting control elements from parent1 and parent2.\n",
    "    \"\"\"\n",
    "    child = []\n",
    "    \n",
    "    for c1, c2 in zip(parent1, parent2):\n",
    "        # For each control element, randomly choose from parent1 or parent2\n",
    "        chosen_parent = random.choice([c1, c2])\n",
    "        child.append(chosen_parent)\n",
    "    \n",
    "    return child\n",
    "\n"
   ]
  },
  {
   "cell_type": "code",
   "execution_count": 9,
   "metadata": {},
   "outputs": [],
   "source": [
    "population_size = 6\n",
    "elite_count = 1\n",
    "new_pop = []"
   ]
  },
  {
   "cell_type": "code",
   "execution_count": 10,
   "metadata": {},
   "outputs": [],
   "source": [
    "\n",
    "# Create new individuals using crossover until the population size is met\n",
    "while len(new_pop) < (population_size - elite_count):\n",
    "    # Select two random parents from sorted population, ensuring they are not the same\n",
    "    parent1_data = random.choice(individual_with_scores)\n",
    "    parent2_data = random.choice(individual_with_scores)\n",
    "    \n",
    "    # Ensure parent1 and parent2 are not the same individual\n",
    "    while parent1_data == parent2_data:\n",
    "        parent2_data = random.choice(individual_with_scores)\n",
    "    \n",
    "    # Perform crossover between the parents\n",
    "    child_controls = crossover(parent1_data['controls'], parent2_data['controls'])\n",
    "    \n",
    "    # Create the child with a random fitness score (this could be calculated differently)\n",
    "    #child_fitness_score = random.random()\n",
    "    \n",
    "    # Store the child as a tuple (individual_name, controls, fitness_score)\n",
    "    #new_pop.append(('child_' + str(len(new_pop) + 1), child_controls, child_fitness_score))\n",
    "    new_pop.append(('child_' + str(len(new_pop) + 1), child_controls))\n"
   ]
  },
  {
   "cell_type": "code",
   "execution_count": 11,
   "metadata": {},
   "outputs": [],
   "source": [
    "def add_crossover_pop(pop, population_size, elite_count):\n",
    "    \n",
    "    new_pop=[]\n",
    "\n",
    "    # Create new individuals using crossover until the population size is met\n",
    "    while len(new_pop) < (population_size - elite_count):\n",
    "        # Select two random parents from sorted population, ensuring they are not the same\n",
    "        parent1_data = random.choice(pop)\n",
    "        parent2_data = random.choice(pop)\n",
    "        \n",
    "        # Ensure parent1 and parent2 are not the same individual\n",
    "        while parent1_data == parent2_data:\n",
    "            parent2_data = random.choice(pop)\n",
    "        \n",
    "        # Perform crossover between the parents\n",
    "        child_controls = crossover(parent1_data['controls'], parent2_data['controls'])\n",
    "        \n",
    "        # Create the child with a random fitness score (this could be calculated differently)\n",
    "        #child_fitness_score = random.random()\n",
    "        \n",
    "        # Store the child as a tuple (individual_name, controls, fitness_score)\n",
    "        #new_pop.append(('child_' + str(len(new_pop) + 1), child_controls, child_fitness_score))\n",
    "        new_pop.append(('child_' + str(len(new_pop) + 1), child_controls))\n",
    "\n",
    "\n",
    "\n",
    "\n",
    "    return new_pop"
   ]
  },
  {
   "cell_type": "code",
   "execution_count": 12,
   "metadata": {},
   "outputs": [
    {
     "name": "stdout",
     "output_type": "stream",
     "text": [
      "New Population (Excluding Elites):\n",
      "Child 1:\n",
      "  Name: child_1\n",
      "  Controls: [(0, 0, 0, 0), (0, 0, 0, 0), (0, 0, 0, 0), (0, 0, 0, 0), (1, 0, 0, 0), (0, 0, 0, 0), (1, 0, 0, 0), (0, 0, 0, 0), (1, 0, 0, 0), (1, 0, 1, 0), (0, 0, 0, 0), (0, 0, 0, 0), (0, 0, 0, 0), (1, 0, 0, 0), (1, 0, 0, 0), (0, 0, 0, 0), (1, 0, 0, 0), (0, 0, 0, 0), (1, 0, 0, 0), (1, 0, 0, 0), (0, 0, 1, 0), (0, 0, 1, 0), (0, 0, 1, 0), (1, 0, 0, 0), (1, 0, 0, 0), (0, 0, 0, 1), (1, 0, 0, 0), (1, 0, 0, 0), (0, 0, 1, 1), (1, 0, 0, 0), (0, 0, 1, 0), (0, 0, 1, 0), (1, 0, 0, 0), (1, 0, 0, 0), (1, 0, 1, 0), (0, 0, 1, 0), (0, 0, 1, 0), (0, 0, 1, 0), (1, 0, 1, 0), (1, 0, 0, 0), (1, 0, 0, 0), (1, 0, 0, 1), (0, 0, 0, 1), (1, 0, 0, 0), (1, 0, 0, 0), (1, 0, 0, 0), (0, 0, 0, 0), (0, 0, 0, 0), (0, 0, 0, 0), (0, 0, 0, 0)]\n",
      "\n",
      "Child 2:\n",
      "  Name: child_2\n",
      "  Controls: [(0, 0, 0, 0), (0, 0, 0, 0), (0, 0, 0, 0), (0, 0, 0, 0), (0, 0, 0, 0), (1, 0, 0, 0), (0, 0, 0, 0), (0, 0, 0, 0), (1, 0, 0, 0), (1, 0, 1, 0), (0, 0, 0, 0), (0, 0, 0, 0), (0, 0, 0, 0), (1, 0, 0, 0), (1, 0, 0, 0), (1, 0, 1, 0), (1, 0, 0, 0), (1, 0, 0, 0), (1, 0, 0, 0), (1, 0, 0, 0), (0, 0, 1, 0), (1, 0, 1, 0), (0, 0, 1, 0), (0, 0, 1, 0), (0, 0, 0, 1), (0, 0, 0, 1), (1, 0, 0, 0), (1, 0, 0, 0), (1, 0, 0, 0), (1, 0, 0, 0), (1, 0, 0, 0), (0, 0, 1, 0), (1, 0, 0, 0), (1, 0, 0, 0), (0, 0, 1, 0), (0, 0, 1, 0), (0, 0, 1, 0), (0, 0, 1, 0), (1, 0, 1, 0), (1, 0, 1, 0), (1, 0, 0, 0), (1, 0, 0, 0), (1, 0, 0, 0), (0, 0, 0, 1), (0, 0, 0, 1), (0, 0, 0, 0), (1, 0, 0, 0), (0, 0, 0, 0), (0, 0, 0, 0), (0, 0, 0, 0)]\n",
      "\n",
      "Child 3:\n",
      "  Name: child_3\n",
      "  Controls: [(0, 0, 0, 0), (0, 0, 0, 0), (0, 0, 0, 0), (0, 0, 0, 0), (1, 0, 0, 0), (0, 0, 0, 0), (0, 0, 0, 0), (0, 0, 0, 0), (0, 0, 0, 0), (1, 0, 1, 0), (1, 0, 0, 0), (0, 0, 0, 0), (1, 0, 0, 0), (1, 0, 0, 0), (0, 0, 1, 0), (0, 0, 1, 0), (1, 0, 0, 0), (1, 0, 1, 0), (1, 0, 1, 0), (1, 0, 0, 0), (0, 0, 1, 0), (0, 0, 0, 1), (0, 0, 1, 0), (0, 0, 1, 0), (0, 0, 1, 0), (0, 0, 0, 1), (0, 0, 0, 1), (1, 0, 1, 0), (1, 0, 0, 0), (1, 0, 0, 0), (1, 0, 0, 0), (0, 0, 1, 0), (1, 0, 0, 0), (0, 0, 1, 0), (0, 0, 0, 1), (0, 0, 1, 1), (0, 0, 1, 0), (0, 0, 1, 0), (1, 0, 1, 0), (1, 0, 0, 0), (1, 0, 0, 0), (1, 0, 0, 0), (1, 0, 0, 1), (0, 0, 0, 1), (0, 0, 0, 1), (0, 0, 0, 0), (0, 0, 0, 0), (0, 0, 0, 0), (0, 0, 1, 0), (0, 0, 0, 0)]\n",
      "\n",
      "Child 4:\n",
      "  Name: child_4\n",
      "  Controls: [(0, 0, 0, 0), (0, 0, 0, 0), (0, 0, 0, 0), (0, 0, 0, 0), (0, 0, 0, 0), (0, 0, 0, 0), (0, 0, 0, 0), (1, 0, 0, 0), (1, 0, 0, 0), (1, 0, 0, 0), (1, 0, 0, 0), (1, 0, 0, 0), (1, 0, 0, 0), (1, 0, 0, 0), (1, 0, 0, 0), (1, 0, 0, 0), (1, 0, 1, 0), (1, 0, 0, 0), (1, 0, 0, 0), (0, 0, 0, 0), (1, 0, 0, 0), (1, 0, 0, 0), (1, 0, 0, 0), (0, 0, 0, 0), (1, 0, 0, 0), (0, 0, 0, 0), (0, 0, 1, 0), (0, 0, 0, 0), (1, 0, 0, 0), (0, 0, 0, 0), (1, 0, 0, 0), (0, 0, 0, 0), (0, 0, 0, 1), (0, 0, 1, 1), (0, 0, 1, 0), (0, 0, 1, 0), (0, 0, 1, 0), (0, 0, 1, 0), (0, 0, 1, 0), (1, 0, 1, 0), (0, 0, 1, 0), (1, 0, 0, 1), (0, 0, 0, 1), (0, 0, 0, 0), (0, 0, 0, 1), (0, 0, 0, 0), (0, 0, 0, 0), (0, 0, 0, 0), (0, 0, 0, 0), (0, 0, 0, 0), (0, 0, 0, 0), (0, 0, 0, 0), (0, 0, 0, 0), (0, 0, 0, 0), (0, 0, 0, 0), (0, 0, 0, 0)]\n",
      "\n",
      "Child 5:\n",
      "  Name: child_5\n",
      "  Controls: [(0, 0, 0, 0), (0, 0, 0, 0), (0, 0, 0, 0), (0, 0, 0, 0), (0, 0, 0, 0), (0, 0, 0, 0), (0, 0, 0, 0), (0, 0, 0, 0), (0, 0, 0, 0), (0, 0, 0, 0), (0, 0, 0, 0), (0, 0, 0, 0), (0, 0, 0, 0), (0, 0, 0, 0), (0, 0, 1, 0), (0, 0, 1, 0), (0, 0, 0, 0), (0, 0, 0, 0), (1, 0, 0, 0), (1, 0, 1, 0), (1, 0, 0, 0), (1, 0, 1, 0), (0, 0, 1, 0), (0, 0, 1, 0), (0, 0, 1, 0), (0, 0, 1, 0), (0, 0, 1, 0), (1, 0, 0, 0), (1, 0, 0, 0), (1, 0, 0, 0), (1, 0, 0, 0), (1, 0, 0, 0), (1, 0, 0, 0), (1, 0, 0, 0), (0, 0, 0, 1), (0, 0, 1, 1), (0, 0, 1, 0), (0, 0, 1, 0), (0, 0, 1, 0), (1, 0, 1, 0), (0, 0, 1, 0), (1, 0, 0, 0), (1, 0, 0, 1), (1, 0, 0, 0), (0, 0, 0, 1), (0, 0, 0, 1), (1, 0, 0, 0), (0, 0, 0, 0), (0, 0, 1, 0), (0, 0, 0, 0), (0, 0, 0, 0), (0, 0, 1, 0), (0, 0, 1, 0), (0, 0, 0, 0), (0, 0, 0, 1), (0, 0, 0, 0), (1, 0, 1, 0)]\n",
      "\n"
     ]
    }
   ],
   "source": [
    "print(\"New Population (Excluding Elites):\")\n",
    "for i, individual in enumerate(new_pop, start=1):\n",
    "    child_name, controls = individual\n",
    "    print(f\"Child {i}:\")\n",
    "    print(f\"  Name: {child_name}\")\n",
    "    print(f\"  Controls: {controls}\")\n",
    "    print()  "
   ]
  },
  {
   "cell_type": "code",
   "execution_count": null,
   "metadata": {},
   "outputs": [],
   "source": []
  },
  {
   "cell_type": "markdown",
   "metadata": {},
   "source": [
    "## mutation"
   ]
  },
  {
   "cell_type": "code",
   "execution_count": 13,
   "metadata": {},
   "outputs": [],
   "source": [
    "import numpy as np\n",
    "\n",
    "def mutate(individual, mutation_rate):\n",
    "    \"\"\"\n",
    "    Mutate the individual's controls based on the mutation_rate.\n",
    "    This will mutate each control with a certain probability, setting each control value to 0 or 1.\n",
    "    \n",
    "    Parameters:\n",
    "    - individual: A tuple of (name, controls)\n",
    "    - mutation_rate: Probability of mutation per control in each individual\n",
    "    \n",
    "    Returns:\n",
    "    - individual: The mutated individual with updated controls\n",
    "    \"\"\"\n",
    "    controls = individual[1]  # Get the controls from the individual\n",
    "    \n",
    "    # Iterate over each control\n",
    "    for i in range(len(controls)):\n",
    "        # If the control is a tuple or list, mutate each element in it\n",
    "        if isinstance(controls[i], (tuple, list)):\n",
    "            controls[i] = tuple(\n",
    "                np.random.choice([0, 1], size=len(controls[i])).tolist()\n",
    "            )  # Convert to tuple and avoid np.int64\n",
    "        # If the control is an np.int64 (or similar), mutate it directly\n",
    "        elif isinstance(controls[i], np.int64):\n",
    "            controls[i] = int(np.random.choice([0, 1]))  # Convert to standard int\n",
    "        else:\n",
    "            # Otherwise, handle as normal, assuming it should be a normal int\n",
    "            if np.random.rand() < mutation_rate:\n",
    "                controls[i] = int(np.random.choice([0, 1]))  # Convert to int\n",
    "\n",
    "    return (individual[0], controls)  # Return the mutated individual\n",
    "\n"
   ]
  },
  {
   "cell_type": "code",
   "execution_count": 14,
   "metadata": {},
   "outputs": [],
   "source": [
    "def mutate_population(population, mutation_rate):\n",
    "    \"\"\"\n",
    "    Mutates the individuals in the population based on mutation_rate.\n",
    "    \"\"\"\n",
    "    mutated_population = []\n",
    "    \n",
    "    for individual in population:\n",
    "        mutated_individual = mutate(individual, mutation_rate)\n",
    "        mutated_population.append(mutated_individual)\n",
    "    \n",
    "    return mutated_population"
   ]
  },
  {
   "cell_type": "code",
   "execution_count": 15,
   "metadata": {},
   "outputs": [
    {
     "name": "stdout",
     "output_type": "stream",
     "text": [
      "Mutated Population:\n",
      "Individual: child_1, Controls: [(1, 0, 0, 0), (1, 1, 0, 0), (0, 0, 0, 0), (1, 0, 1, 1), (0, 1, 0, 0), (1, 1, 1, 0), (1, 1, 1, 1), (0, 1, 1, 0), (0, 1, 0, 0), (0, 1, 1, 0), (1, 1, 0, 0), (0, 0, 1, 1), (0, 1, 0, 0), (0, 0, 1, 1), (0, 1, 0, 1), (0, 0, 0, 1), (0, 1, 0, 0), (0, 1, 1, 0), (0, 1, 0, 0), (0, 1, 0, 1), (1, 1, 1, 0), (0, 0, 1, 1), (1, 0, 1, 0), (1, 0, 0, 1), (1, 1, 0, 0), (1, 1, 1, 0), (0, 1, 0, 0), (1, 1, 0, 1), (0, 1, 1, 1), (1, 1, 0, 0), (1, 0, 0, 1), (0, 0, 1, 0), (0, 1, 0, 0), (0, 0, 1, 1), (1, 0, 0, 0), (1, 0, 0, 0), (0, 0, 1, 1), (1, 1, 0, 0), (0, 1, 1, 1), (0, 0, 1, 0), (1, 1, 1, 1), (1, 1, 0, 1), (1, 1, 0, 1), (1, 1, 0, 1), (1, 0, 1, 0), (1, 1, 1, 1), (1, 0, 1, 1), (0, 1, 0, 1), (1, 1, 1, 1), (0, 0, 0, 1)]\n",
      "Individual: child_2, Controls: [(1, 1, 0, 0), (0, 1, 1, 0), (0, 0, 0, 0), (0, 1, 1, 1), (0, 1, 0, 0), (1, 0, 0, 0), (1, 0, 1, 0), (0, 1, 0, 0), (0, 1, 1, 1), (1, 0, 0, 1), (1, 1, 0, 1), (1, 0, 1, 1), (1, 1, 0, 1), (0, 0, 1, 1), (0, 0, 0, 1), (1, 1, 1, 0), (1, 0, 0, 1), (1, 0, 0, 1), (0, 1, 1, 0), (1, 1, 0, 0), (1, 0, 0, 1), (1, 0, 1, 1), (0, 1, 1, 1), (0, 1, 1, 0), (0, 0, 0, 1), (1, 0, 1, 0), (0, 0, 0, 1), (1, 1, 0, 0), (1, 1, 0, 0), (0, 1, 0, 1), (0, 0, 1, 0), (0, 1, 1, 1), (0, 1, 1, 1), (1, 1, 0, 1), (0, 0, 1, 0), (1, 0, 1, 1), (0, 0, 1, 1), (0, 1, 0, 0), (0, 1, 1, 1), (0, 1, 0, 0), (0, 0, 0, 0), (1, 1, 0, 1), (0, 0, 0, 0), (0, 1, 1, 1), (0, 0, 1, 1), (1, 0, 1, 1), (0, 1, 0, 1), (0, 1, 0, 0), (1, 0, 0, 0), (0, 0, 0, 0)]\n",
      "Individual: child_3, Controls: [(0, 0, 0, 0), (0, 0, 0, 0), (0, 0, 0, 0), (1, 1, 0, 0), (1, 0, 0, 1), (0, 1, 0, 1), (0, 0, 0, 1), (0, 0, 0, 1), (0, 0, 1, 0), (1, 1, 0, 0), (1, 1, 0, 1), (1, 1, 0, 1), (1, 0, 1, 0), (1, 1, 0, 1), (0, 1, 1, 1), (1, 0, 0, 1), (1, 0, 1, 0), (1, 1, 0, 1), (1, 0, 0, 1), (0, 1, 1, 1), (1, 0, 0, 1), (0, 1, 1, 1), (0, 0, 1, 1), (1, 1, 1, 1), (0, 1, 1, 0), (1, 0, 0, 0), (1, 0, 1, 1), (0, 0, 1, 0), (1, 1, 0, 0), (0, 1, 0, 0), (1, 1, 1, 1), (0, 1, 0, 0), (1, 1, 0, 0), (1, 0, 1, 0), (0, 0, 1, 1), (1, 0, 1, 0), (0, 0, 1, 0), (0, 1, 0, 0), (1, 0, 0, 0), (0, 1, 0, 1), (1, 0, 1, 1), (0, 1, 1, 0), (0, 0, 1, 0), (0, 0, 1, 0), (1, 1, 1, 0), (0, 0, 0, 1), (1, 0, 1, 1), (0, 1, 0, 1), (1, 0, 1, 1), (1, 1, 1, 0)]\n",
      "Individual: child_4, Controls: [(1, 0, 0, 1), (1, 1, 0, 0), (0, 1, 1, 0), (1, 0, 0, 1), (0, 1, 1, 0), (1, 1, 0, 0), (1, 0, 1, 1), (0, 1, 1, 0), (1, 1, 1, 0), (1, 0, 1, 1), (1, 1, 0, 1), (1, 0, 0, 0), (1, 1, 0, 0), (0, 0, 0, 1), (0, 1, 0, 1), (0, 1, 1, 1), (0, 1, 1, 0), (0, 0, 1, 0), (1, 0, 1, 1), (0, 0, 0, 1), (0, 1, 0, 1), (1, 0, 1, 0), (1, 0, 0, 0), (0, 0, 0, 1), (1, 0, 0, 1), (1, 1, 0, 1), (1, 0, 0, 0), (1, 0, 1, 1), (1, 1, 0, 1), (1, 0, 0, 1), (0, 0, 1, 1), (0, 0, 0, 1), (1, 0, 1, 1), (0, 1, 0, 1), (0, 0, 0, 1), (0, 1, 1, 1), (1, 0, 1, 0), (1, 0, 1, 1), (1, 0, 1, 0), (1, 1, 0, 0), (1, 0, 0, 1), (1, 1, 0, 1), (0, 0, 0, 0), (1, 1, 0, 0), (1, 0, 1, 0), (0, 1, 1, 1), (1, 1, 0, 0), (1, 0, 1, 0), (0, 1, 0, 1), (1, 1, 1, 0), (1, 0, 0, 0), (1, 0, 0, 0), (0, 1, 0, 1), (1, 0, 0, 1), (1, 0, 1, 1), (1, 0, 0, 0)]\n",
      "Individual: child_5, Controls: [(0, 1, 1, 0), (1, 1, 1, 0), (1, 1, 0, 1), (0, 0, 1, 0), (1, 1, 0, 0), (1, 0, 0, 0), (0, 0, 0, 1), (1, 0, 1, 1), (1, 1, 0, 1), (0, 1, 0, 1), (1, 0, 0, 1), (0, 0, 1, 1), (0, 0, 1, 1), (0, 1, 1, 0), (0, 0, 0, 0), (0, 0, 1, 1), (0, 0, 1, 1), (1, 1, 1, 1), (1, 0, 1, 1), (0, 1, 1, 0), (0, 1, 0, 0), (1, 0, 0, 0), (1, 1, 1, 0), (0, 0, 1, 1), (0, 1, 0, 0), (0, 1, 0, 0), (0, 0, 0, 0), (0, 1, 1, 1), (1, 1, 0, 1), (0, 1, 1, 1), (1, 0, 0, 0), (0, 0, 0, 1), (0, 1, 1, 1), (0, 1, 0, 0), (1, 0, 1, 1), (1, 0, 0, 0), (1, 1, 1, 0), (0, 1, 0, 1), (1, 1, 0, 0), (1, 1, 0, 0), (1, 0, 0, 1), (0, 0, 1, 1), (0, 0, 1, 1), (0, 1, 1, 0), (1, 0, 1, 1), (1, 0, 0, 0), (1, 1, 1, 0), (1, 0, 1, 1), (1, 1, 0, 0), (0, 0, 1, 1), (1, 0, 1, 1), (0, 0, 1, 0), (0, 1, 0, 0), (1, 0, 1, 0), (1, 0, 0, 1), (0, 0, 0, 0), (0, 0, 1, 1)]\n"
     ]
    }
   ],
   "source": [
    "mutation_rate = 0.1\n",
    "mutated_pop = mutate_population(new_pop, mutation_rate)\n",
    "\n",
    "# Print the mutated population\n",
    "print(\"Mutated Population:\")\n",
    "for individual in mutated_pop:\n",
    "    print(f\"Individual: {individual[0]}, Controls: {individual[1]}\")"
   ]
  },
  {
   "cell_type": "code",
   "execution_count": 16,
   "metadata": {},
   "outputs": [
    {
     "name": "stdout",
     "output_type": "stream",
     "text": [
      "Mutated Population:\n",
      "Individual: child_1, Controls: [(1, 0, 0, 0), (1, 1, 0, 0), (0, 0, 0, 0), (1, 0, 1, 1), (0, 1, 0, 0), (1, 1, 1, 0), (1, 1, 1, 1), (0, 1, 1, 0), (0, 1, 0, 0), (0, 1, 1, 0), (1, 1, 0, 0), (0, 0, 1, 1), (0, 1, 0, 0), (0, 0, 1, 1), (0, 1, 0, 1), (0, 0, 0, 1), (0, 1, 0, 0), (0, 1, 1, 0), (0, 1, 0, 0), (0, 1, 0, 1), (1, 1, 1, 0), (0, 0, 1, 1), (1, 0, 1, 0), (1, 0, 0, 1), (1, 1, 0, 0), (1, 1, 1, 0), (0, 1, 0, 0), (1, 1, 0, 1), (0, 1, 1, 1), (1, 1, 0, 0), (1, 0, 0, 1), (0, 0, 1, 0), (0, 1, 0, 0), (0, 0, 1, 1), (1, 0, 0, 0), (1, 0, 0, 0), (0, 0, 1, 1), (1, 1, 0, 0), (0, 1, 1, 1), (0, 0, 1, 0), (1, 1, 1, 1), (1, 1, 0, 1), (1, 1, 0, 1), (1, 1, 0, 1), (1, 0, 1, 0), (1, 1, 1, 1), (1, 0, 1, 1), (0, 1, 0, 1), (1, 1, 1, 1), (0, 0, 0, 1)]\n",
      "Individual: child_2, Controls: [(1, 1, 0, 0), (0, 1, 1, 0), (0, 0, 0, 0), (0, 1, 1, 1), (0, 1, 0, 0), (1, 0, 0, 0), (1, 0, 1, 0), (0, 1, 0, 0), (0, 1, 1, 1), (1, 0, 0, 1), (1, 1, 0, 1), (1, 0, 1, 1), (1, 1, 0, 1), (0, 0, 1, 1), (0, 0, 0, 1), (1, 1, 1, 0), (1, 0, 0, 1), (1, 0, 0, 1), (0, 1, 1, 0), (1, 1, 0, 0), (1, 0, 0, 1), (1, 0, 1, 1), (0, 1, 1, 1), (0, 1, 1, 0), (0, 0, 0, 1), (1, 0, 1, 0), (0, 0, 0, 1), (1, 1, 0, 0), (1, 1, 0, 0), (0, 1, 0, 1), (0, 0, 1, 0), (0, 1, 1, 1), (0, 1, 1, 1), (1, 1, 0, 1), (0, 0, 1, 0), (1, 0, 1, 1), (0, 0, 1, 1), (0, 1, 0, 0), (0, 1, 1, 1), (0, 1, 0, 0), (0, 0, 0, 0), (1, 1, 0, 1), (0, 0, 0, 0), (0, 1, 1, 1), (0, 0, 1, 1), (1, 0, 1, 1), (0, 1, 0, 1), (0, 1, 0, 0), (1, 0, 0, 0), (0, 0, 0, 0)]\n",
      "Individual: child_3, Controls: [(0, 0, 0, 0), (0, 0, 0, 0), (0, 0, 0, 0), (1, 1, 0, 0), (1, 0, 0, 1), (0, 1, 0, 1), (0, 0, 0, 1), (0, 0, 0, 1), (0, 0, 1, 0), (1, 1, 0, 0), (1, 1, 0, 1), (1, 1, 0, 1), (1, 0, 1, 0), (1, 1, 0, 1), (0, 1, 1, 1), (1, 0, 0, 1), (1, 0, 1, 0), (1, 1, 0, 1), (1, 0, 0, 1), (0, 1, 1, 1), (1, 0, 0, 1), (0, 1, 1, 1), (0, 0, 1, 1), (1, 1, 1, 1), (0, 1, 1, 0), (1, 0, 0, 0), (1, 0, 1, 1), (0, 0, 1, 0), (1, 1, 0, 0), (0, 1, 0, 0), (1, 1, 1, 1), (0, 1, 0, 0), (1, 1, 0, 0), (1, 0, 1, 0), (0, 0, 1, 1), (1, 0, 1, 0), (0, 0, 1, 0), (0, 1, 0, 0), (1, 0, 0, 0), (0, 1, 0, 1), (1, 0, 1, 1), (0, 1, 1, 0), (0, 0, 1, 0), (0, 0, 1, 0), (1, 1, 1, 0), (0, 0, 0, 1), (1, 0, 1, 1), (0, 1, 0, 1), (1, 0, 1, 1), (1, 1, 1, 0)]\n",
      "Individual: child_4, Controls: [(1, 0, 0, 1), (1, 1, 0, 0), (0, 1, 1, 0), (1, 0, 0, 1), (0, 1, 1, 0), (1, 1, 0, 0), (1, 0, 1, 1), (0, 1, 1, 0), (1, 1, 1, 0), (1, 0, 1, 1), (1, 1, 0, 1), (1, 0, 0, 0), (1, 1, 0, 0), (0, 0, 0, 1), (0, 1, 0, 1), (0, 1, 1, 1), (0, 1, 1, 0), (0, 0, 1, 0), (1, 0, 1, 1), (0, 0, 0, 1), (0, 1, 0, 1), (1, 0, 1, 0), (1, 0, 0, 0), (0, 0, 0, 1), (1, 0, 0, 1), (1, 1, 0, 1), (1, 0, 0, 0), (1, 0, 1, 1), (1, 1, 0, 1), (1, 0, 0, 1), (0, 0, 1, 1), (0, 0, 0, 1), (1, 0, 1, 1), (0, 1, 0, 1), (0, 0, 0, 1), (0, 1, 1, 1), (1, 0, 1, 0), (1, 0, 1, 1), (1, 0, 1, 0), (1, 1, 0, 0), (1, 0, 0, 1), (1, 1, 0, 1), (0, 0, 0, 0), (1, 1, 0, 0), (1, 0, 1, 0), (0, 1, 1, 1), (1, 1, 0, 0), (1, 0, 1, 0), (0, 1, 0, 1), (1, 1, 1, 0), (1, 0, 0, 0), (1, 0, 0, 0), (0, 1, 0, 1), (1, 0, 0, 1), (1, 0, 1, 1), (1, 0, 0, 0)]\n",
      "Individual: child_5, Controls: [(0, 1, 1, 0), (1, 1, 1, 0), (1, 1, 0, 1), (0, 0, 1, 0), (1, 1, 0, 0), (1, 0, 0, 0), (0, 0, 0, 1), (1, 0, 1, 1), (1, 1, 0, 1), (0, 1, 0, 1), (1, 0, 0, 1), (0, 0, 1, 1), (0, 0, 1, 1), (0, 1, 1, 0), (0, 0, 0, 0), (0, 0, 1, 1), (0, 0, 1, 1), (1, 1, 1, 1), (1, 0, 1, 1), (0, 1, 1, 0), (0, 1, 0, 0), (1, 0, 0, 0), (1, 1, 1, 0), (0, 0, 1, 1), (0, 1, 0, 0), (0, 1, 0, 0), (0, 0, 0, 0), (0, 1, 1, 1), (1, 1, 0, 1), (0, 1, 1, 1), (1, 0, 0, 0), (0, 0, 0, 1), (0, 1, 1, 1), (0, 1, 0, 0), (1, 0, 1, 1), (1, 0, 0, 0), (1, 1, 1, 0), (0, 1, 0, 1), (1, 1, 0, 0), (1, 1, 0, 0), (1, 0, 0, 1), (0, 0, 1, 1), (0, 0, 1, 1), (0, 1, 1, 0), (1, 0, 1, 1), (1, 0, 0, 0), (1, 1, 1, 0), (1, 0, 1, 1), (1, 1, 0, 0), (0, 0, 1, 1), (1, 0, 1, 1), (0, 0, 1, 0), (0, 1, 0, 0), (1, 0, 1, 0), (1, 0, 0, 1), (0, 0, 0, 0), (0, 0, 1, 1)]\n",
      "Individual: 0, Controls: [(0, 0, 0, 0), (0, 0, 0, 0), (0, 0, 0, 0), (0, 0, 0, 0), (1, 0, 0, 0), (1, 0, 0, 0), (1, 0, 0, 0), (1, 0, 0, 0), (1, 0, 0, 0), (1, 0, 1, 0), (1, 0, 0, 0), (1, 0, 0, 0), (1, 0, 0, 0), (1, 0, 0, 0), (1, 0, 0, 0), (1, 0, 1, 0), (1, 0, 0, 0), (1, 0, 0, 0), (1, 0, 1, 0), (1, 0, 0, 0), (0, 0, 1, 0), (0, 0, 1, 0), (0, 0, 1, 0), (0, 0, 1, 0), (0, 0, 0, 1), (0, 0, 0, 1), (0, 0, 0, 1), (0, 0, 0, 1), (0, 0, 1, 1), (0, 0, 1, 0), (0, 0, 1, 0), (0, 0, 1, 0), (0, 0, 1, 0), (0, 0, 1, 0), (0, 0, 1, 0), (0, 0, 1, 0), (0, 0, 1, 0), (0, 0, 1, 0), (1, 0, 1, 0), (1, 0, 0, 0), (1, 0, 0, 0), (1, 0, 0, 1), (0, 0, 0, 1), (0, 0, 0, 1), (0, 0, 0, 1), (0, 0, 0, 0), (0, 0, 0, 0), (0, 0, 0, 0), (0, 0, 0, 0), (0, 0, 0, 0)]\n"
     ]
    }
   ],
   "source": [
    "for i in enumerate(elites):\n",
    "    mutated_pop.append(i)\n",
    "\n",
    "# Print the mutated population\n",
    "print(\"Mutated Population:\")\n",
    "for individual in mutated_pop:\n",
    "    print(f\"Individual: {individual[0]}, Controls: {individual[1]}\")"
   ]
  },
  {
   "cell_type": "code",
   "execution_count": 17,
   "metadata": {},
   "outputs": [],
   "source": [
    "def genetic_algorithm(generation=2, mutation_rate=0.1, population_size=6, elitism_count=1):\n",
    "\n",
    "    \n",
    "    individual_controls = load_data(\"data_trajectory_test/*.npz\")\n",
    "\n",
    "    individual_with_scores = add_fitness(individual_controls)\n",
    "\n",
    "    # Start the evolution process for the specified number of generations\n",
    "    for gen in range(generation):\n",
    "        print(f\"\\nGeneration {gen + 1}:\")\n",
    "\n",
    "        # Step 1: Select Elite individuals\n",
    "        elite = elitism(individual_with_scores, elitism_count)\n",
    "\n",
    "        # Step 2: Create the next generation using crossover\n",
    "        crossed_pop = add_crossover_pop(individual_with_scores, population_size, elitism_count)\n",
    "\n",
    "        # Step 3: Mutate the crossed population\n",
    "        mutated_pop = mutate_population(crossed_pop, mutation_rate)\n",
    "\n",
    "        # Step 4: Add the elite individuals to the mutated population\n",
    "        next_generation = elite + mutated_pop  # Elite individuals directly pass to the next generation\n",
    "\n",
    "        # Step 5: Print the current population after mutation\n",
    "        print(\"Mutated Population:\")\n",
    "        for individual in next_generation:\n",
    "            print(f\"Individual: {individual[0]}, Controls: {individual[1]}\")\n",
    "\n",
    "        \n",
    "\n",
    "    return next_generation"
   ]
  },
  {
   "cell_type": "code",
   "execution_count": 18,
   "metadata": {},
   "outputs": [
    {
     "name": "stdout",
     "output_type": "stream",
     "text": [
      "Total individuals: 5\n",
      "\n",
      "Stored Controls:\n",
      "individual_0: [(0, 0, 0, 0), (0, 0, 0, 0), (0, 0, 0, 0), (0, 0, 0, 0), (0, 0, 0, 0), (0, 0, 0, 0), (0, 0, 0, 0), (0, 0, 0, 0), (1, 0, 0, 0), (1, 0, 0, 0), (1, 0, 0, 0), (1, 0, 0, 0), (1, 0, 0, 0), (1, 0, 0, 0), (0, 0, 0, 0), (0, 0, 1, 0), (1, 0, 1, 0), (1, 0, 0, 0), (0, 0, 0, 0), (0, 0, 0, 0), (1, 0, 0, 0), (1, 0, 0, 0), (1, 0, 0, 0), (0, 0, 0, 0), (0, 0, 0, 0), (0, 0, 0, 0), (0, 0, 1, 0), (0, 0, 0, 0), (1, 0, 0, 0), (0, 0, 0, 0), (1, 0, 0, 0), (0, 0, 0, 0), (1, 0, 0, 0), (1, 0, 0, 0), (0, 0, 1, 0), (0, 0, 1, 0), (0, 0, 0, 0), (0, 0, 1, 0), (0, 0, 1, 0), (1, 0, 1, 0), (0, 0, 1, 0), (0, 0, 0, 0), (0, 0, 0, 0), (0, 0, 0, 1), (0, 0, 0, 1), (0, 0, 0, 0), (0, 0, 0, 0), (0, 0, 0, 0), (0, 0, 1, 0), (0, 0, 0, 0), (0, 0, 0, 0), (0, 0, 0, 0), (0, 0, 0, 0), (0, 0, 0, 0), (0, 0, 0, 0), (0, 0, 0, 0), (0, 0, 0, 0), (0, 0, 0, 0), (0, 0, 0, 0), (0, 0, 0, 0), (0, 0, 0, 0), (0, 0, 0, 0), (0, 0, 0, 0), (0, 0, 0, 0), (0, 0, 0, 0), (0, 0, 0, 0), (0, 0, 0, 0), (0, 0, 0, 0), (0, 0, 0, 0), (0, 0, 0, 0), (0, 0, 0, 0), (0, 0, 0, 0), (0, 0, 0, 0), (0, 0, 0, 0), (0, 0, 0, 0), (0, 0, 0, 0)]\n",
      "individual_1: [(0, 0, 0, 0), (0, 0, 0, 0), (0, 0, 0, 0), (0, 0, 0, 0), (0, 0, 0, 0), (0, 0, 0, 0), (0, 0, 0, 0), (0, 0, 0, 0), (0, 0, 0, 0), (0, 0, 0, 0), (0, 0, 0, 0), (0, 0, 0, 0), (0, 0, 0, 0), (1, 0, 0, 0), (1, 0, 0, 0), (0, 0, 0, 0), (0, 0, 0, 0), (0, 0, 0, 0), (1, 0, 0, 0), (1, 0, 0, 0), (1, 0, 0, 0), (1, 0, 1, 0), (1, 0, 1, 0), (1, 0, 0, 0), (1, 0, 0, 0), (1, 0, 0, 0), (1, 0, 0, 0), (1, 0, 0, 0), (1, 0, 0, 0), (1, 0, 0, 0), (1, 0, 0, 0), (1, 0, 0, 0), (1, 0, 0, 0), (1, 0, 0, 0), (1, 0, 1, 0), (0, 0, 1, 0), (0, 0, 1, 0), (0, 0, 1, 0), (1, 0, 1, 0), (1, 0, 1, 0), (1, 0, 0, 0), (1, 0, 0, 0), (1, 0, 0, 0), (1, 0, 0, 0), (1, 0, 0, 0), (1, 0, 0, 0), (1, 0, 0, 0), (0, 0, 0, 0), (0, 0, 0, 0), (0, 0, 0, 0), (0, 0, 0, 0), (0, 0, 0, 0), (0, 0, 0, 0), (0, 0, 0, 0), (0, 0, 0, 0), (0, 0, 0, 0), (0, 0, 0, 0)]\n",
      "individual_2: [(0, 0, 0, 0), (0, 0, 0, 0), (0, 0, 0, 0), (0, 0, 0, 0), (1, 0, 0, 0), (1, 0, 0, 0), (1, 0, 0, 0), (1, 0, 0, 0), (1, 0, 0, 0), (1, 0, 1, 0), (1, 0, 0, 0), (1, 0, 0, 0), (1, 0, 0, 0), (1, 0, 0, 0), (1, 0, 0, 0), (1, 0, 1, 0), (1, 0, 0, 0), (1, 0, 0, 0), (1, 0, 1, 0), (1, 0, 0, 0), (0, 0, 1, 0), (0, 0, 1, 0), (0, 0, 1, 0), (0, 0, 1, 0), (0, 0, 0, 1), (0, 0, 0, 1), (0, 0, 0, 1), (0, 0, 0, 1), (0, 0, 1, 1), (0, 0, 1, 0), (0, 0, 1, 0), (0, 0, 1, 0), (0, 0, 1, 0), (0, 0, 1, 0), (0, 0, 1, 0), (0, 0, 1, 0), (0, 0, 1, 0), (0, 0, 1, 0), (1, 0, 1, 0), (1, 0, 0, 0), (1, 0, 0, 0), (1, 0, 0, 1), (0, 0, 0, 1), (0, 0, 0, 1), (0, 0, 0, 1), (0, 0, 0, 0), (0, 0, 0, 0), (0, 0, 0, 0), (0, 0, 0, 0), (0, 0, 0, 0)]\n",
      "individual_3: [(0, 0, 0, 0), (0, 0, 0, 0), (0, 0, 0, 0), (0, 0, 0, 0), (0, 0, 0, 0), (0, 0, 0, 0), (0, 0, 0, 0), (0, 0, 0, 0), (0, 0, 0, 0), (0, 0, 0, 0), (0, 0, 0, 0), (0, 0, 0, 0), (0, 0, 0, 0), (0, 0, 0, 0), (0, 0, 1, 0), (0, 0, 1, 0), (1, 0, 1, 0), (1, 0, 1, 0), (0, 0, 1, 1), (1, 0, 1, 0), (1, 0, 0, 1), (0, 0, 0, 1), (0, 0, 1, 0), (0, 0, 1, 0), (0, 0, 1, 0), (0, 0, 1, 0), (0, 0, 1, 0), (1, 0, 1, 0), (1, 0, 0, 0), (1, 0, 0, 0), (1, 0, 0, 0), (1, 0, 0, 0), (1, 0, 0, 0), (1, 0, 0, 1), (0, 0, 0, 1), (0, 0, 1, 1), (0, 0, 1, 0), (0, 0, 1, 0), (0, 0, 1, 0), (0, 0, 1, 0), (0, 0, 1, 0), (1, 0, 0, 0), (1, 0, 0, 1), (0, 0, 0, 1), (0, 0, 0, 1), (0, 0, 0, 1), (0, 0, 0, 1), (0, 0, 1, 0), (0, 0, 1, 0), (0, 0, 1, 0), (0, 0, 1, 0), (0, 0, 1, 0), (0, 0, 1, 0), (0, 0, 0, 1), (0, 0, 0, 1), (1, 0, 0, 1), (1, 0, 1, 0), (0, 0, 1, 0), (1, 0, 1, 0), (1, 0, 0, 1), (0, 0, 1, 1), (1, 0, 1, 0), (1, 0, 0, 1), (1, 0, 0, 0), (0, 0, 0, 1), (0, 0, 1, 0), (0, 0, 1, 0), (0, 0, 1, 0), (0, 0, 1, 0), (0, 0, 0, 0), (0, 0, 0, 1), (0, 0, 0, 1), (0, 0, 0, 1), (0, 0, 1, 0), (0, 0, 1, 0), (0, 0, 1, 0), (0, 0, 1, 0), (1, 0, 0, 0), (1, 0, 0, 1), (0, 0, 0, 1), (0, 0, 0, 1), (0, 0, 1, 0), (0, 0, 1, 0), (0, 0, 1, 0), (0, 0, 0, 1), (1, 0, 0, 1), (1, 0, 0, 0), (1, 0, 0, 0), (0, 0, 1, 0), (0, 0, 1, 0), (0, 0, 0, 1), (0, 0, 0, 1), (0, 0, 0, 0), (0, 0, 1, 0), (0, 0, 1, 0), (0, 0, 0, 1), (0, 0, 0, 0), (0, 0, 0, 0), (0, 0, 0, 0), (0, 0, 0, 0), (0, 0, 0, 0), (0, 0, 0, 0), (0, 0, 0, 0), (0, 0, 0, 0), (0, 0, 0, 0), (0, 0, 0, 0), (0, 0, 0, 0)]\n",
      "individual_4: [(0, 0, 0, 0), (0, 0, 0, 0), (0, 0, 0, 0), (0, 0, 0, 0), (0, 0, 0, 0), (0, 0, 0, 0), (0, 0, 0, 0), (1, 0, 0, 0), (1, 0, 0, 0), (1, 0, 0, 0), (1, 0, 0, 0), (1, 0, 1, 0), (1, 0, 1, 0), (1, 0, 1, 0), (1, 0, 0, 0), (1, 0, 0, 0), (1, 0, 0, 0), (1, 0, 0, 0), (1, 0, 0, 0), (1, 0, 0, 0), (1, 0, 0, 0), (1, 0, 0, 0), (1, 0, 0, 0), (1, 0, 1, 0), (1, 0, 0, 0), (1, 0, 0, 0), (1, 0, 0, 0), (1, 0, 1, 0), (1, 0, 1, 0), (1, 0, 1, 0), (1, 0, 1, 0), (1, 0, 0, 1), (0, 0, 0, 1), (0, 0, 1, 1), (0, 0, 1, 0), (0, 0, 1, 0), (0, 0, 1, 0), (0, 0, 1, 0), (0, 0, 1, 0), (1, 0, 0, 0), (1, 0, 0, 0), (1, 0, 0, 1), (0, 0, 0, 1), (0, 0, 0, 0), (0, 0, 0, 0), (0, 0, 0, 0), (0, 0, 0, 0), (0, 0, 0, 0), (0, 0, 0, 0), (0, 0, 0, 0), (0, 0, 0, 0), (0, 0, 0, 0), (0, 0, 0, 0), (0, 0, 0, 0), (0, 0, 0, 0), (0, 0, 0, 0)]\n",
      "Individuals sorted by fitness score:\n",
      "Individual: individual_4, Fitness Score: 0.9065, Controls: [(0, 0, 0, 0), (0, 0, 0, 0), (0, 0, 0, 0), (0, 0, 0, 0), (0, 0, 0, 0), (0, 0, 0, 0), (0, 0, 0, 0), (1, 0, 0, 0), (1, 0, 0, 0), (1, 0, 0, 0), (1, 0, 0, 0), (1, 0, 1, 0), (1, 0, 1, 0), (1, 0, 1, 0), (1, 0, 0, 0), (1, 0, 0, 0), (1, 0, 0, 0), (1, 0, 0, 0), (1, 0, 0, 0), (1, 0, 0, 0), (1, 0, 0, 0), (1, 0, 0, 0), (1, 0, 0, 0), (1, 0, 1, 0), (1, 0, 0, 0), (1, 0, 0, 0), (1, 0, 0, 0), (1, 0, 1, 0), (1, 0, 1, 0), (1, 0, 1, 0), (1, 0, 1, 0), (1, 0, 0, 1), (0, 0, 0, 1), (0, 0, 1, 1), (0, 0, 1, 0), (0, 0, 1, 0), (0, 0, 1, 0), (0, 0, 1, 0), (0, 0, 1, 0), (1, 0, 0, 0), (1, 0, 0, 0), (1, 0, 0, 1), (0, 0, 0, 1), (0, 0, 0, 0), (0, 0, 0, 0), (0, 0, 0, 0), (0, 0, 0, 0), (0, 0, 0, 0), (0, 0, 0, 0), (0, 0, 0, 0), (0, 0, 0, 0), (0, 0, 0, 0), (0, 0, 0, 0), (0, 0, 0, 0), (0, 0, 0, 0), (0, 0, 0, 0)]\n",
      "Individual: individual_0, Fitness Score: 0.8865, Controls: [(0, 0, 0, 0), (0, 0, 0, 0), (0, 0, 0, 0), (0, 0, 0, 0), (0, 0, 0, 0), (0, 0, 0, 0), (0, 0, 0, 0), (0, 0, 0, 0), (1, 0, 0, 0), (1, 0, 0, 0), (1, 0, 0, 0), (1, 0, 0, 0), (1, 0, 0, 0), (1, 0, 0, 0), (0, 0, 0, 0), (0, 0, 1, 0), (1, 0, 1, 0), (1, 0, 0, 0), (0, 0, 0, 0), (0, 0, 0, 0), (1, 0, 0, 0), (1, 0, 0, 0), (1, 0, 0, 0), (0, 0, 0, 0), (0, 0, 0, 0), (0, 0, 0, 0), (0, 0, 1, 0), (0, 0, 0, 0), (1, 0, 0, 0), (0, 0, 0, 0), (1, 0, 0, 0), (0, 0, 0, 0), (1, 0, 0, 0), (1, 0, 0, 0), (0, 0, 1, 0), (0, 0, 1, 0), (0, 0, 0, 0), (0, 0, 1, 0), (0, 0, 1, 0), (1, 0, 1, 0), (0, 0, 1, 0), (0, 0, 0, 0), (0, 0, 0, 0), (0, 0, 0, 1), (0, 0, 0, 1), (0, 0, 0, 0), (0, 0, 0, 0), (0, 0, 0, 0), (0, 0, 1, 0), (0, 0, 0, 0), (0, 0, 0, 0), (0, 0, 0, 0), (0, 0, 0, 0), (0, 0, 0, 0), (0, 0, 0, 0), (0, 0, 0, 0), (0, 0, 0, 0), (0, 0, 0, 0), (0, 0, 0, 0), (0, 0, 0, 0), (0, 0, 0, 0), (0, 0, 0, 0), (0, 0, 0, 0), (0, 0, 0, 0), (0, 0, 0, 0), (0, 0, 0, 0), (0, 0, 0, 0), (0, 0, 0, 0), (0, 0, 0, 0), (0, 0, 0, 0), (0, 0, 0, 0), (0, 0, 0, 0), (0, 0, 0, 0), (0, 0, 0, 0), (0, 0, 0, 0), (0, 0, 0, 0)]\n",
      "Individual: individual_2, Fitness Score: 0.6537, Controls: [(0, 0, 0, 0), (0, 0, 0, 0), (0, 0, 0, 0), (0, 0, 0, 0), (1, 0, 0, 0), (1, 0, 0, 0), (1, 0, 0, 0), (1, 0, 0, 0), (1, 0, 0, 0), (1, 0, 1, 0), (1, 0, 0, 0), (1, 0, 0, 0), (1, 0, 0, 0), (1, 0, 0, 0), (1, 0, 0, 0), (1, 0, 1, 0), (1, 0, 0, 0), (1, 0, 0, 0), (1, 0, 1, 0), (1, 0, 0, 0), (0, 0, 1, 0), (0, 0, 1, 0), (0, 0, 1, 0), (0, 0, 1, 0), (0, 0, 0, 1), (0, 0, 0, 1), (0, 0, 0, 1), (0, 0, 0, 1), (0, 0, 1, 1), (0, 0, 1, 0), (0, 0, 1, 0), (0, 0, 1, 0), (0, 0, 1, 0), (0, 0, 1, 0), (0, 0, 1, 0), (0, 0, 1, 0), (0, 0, 1, 0), (0, 0, 1, 0), (1, 0, 1, 0), (1, 0, 0, 0), (1, 0, 0, 0), (1, 0, 0, 1), (0, 0, 0, 1), (0, 0, 0, 1), (0, 0, 0, 1), (0, 0, 0, 0), (0, 0, 0, 0), (0, 0, 0, 0), (0, 0, 0, 0), (0, 0, 0, 0)]\n",
      "Individual: individual_3, Fitness Score: 0.5846, Controls: [(0, 0, 0, 0), (0, 0, 0, 0), (0, 0, 0, 0), (0, 0, 0, 0), (0, 0, 0, 0), (0, 0, 0, 0), (0, 0, 0, 0), (0, 0, 0, 0), (0, 0, 0, 0), (0, 0, 0, 0), (0, 0, 0, 0), (0, 0, 0, 0), (0, 0, 0, 0), (0, 0, 0, 0), (0, 0, 1, 0), (0, 0, 1, 0), (1, 0, 1, 0), (1, 0, 1, 0), (0, 0, 1, 1), (1, 0, 1, 0), (1, 0, 0, 1), (0, 0, 0, 1), (0, 0, 1, 0), (0, 0, 1, 0), (0, 0, 1, 0), (0, 0, 1, 0), (0, 0, 1, 0), (1, 0, 1, 0), (1, 0, 0, 0), (1, 0, 0, 0), (1, 0, 0, 0), (1, 0, 0, 0), (1, 0, 0, 0), (1, 0, 0, 1), (0, 0, 0, 1), (0, 0, 1, 1), (0, 0, 1, 0), (0, 0, 1, 0), (0, 0, 1, 0), (0, 0, 1, 0), (0, 0, 1, 0), (1, 0, 0, 0), (1, 0, 0, 1), (0, 0, 0, 1), (0, 0, 0, 1), (0, 0, 0, 1), (0, 0, 0, 1), (0, 0, 1, 0), (0, 0, 1, 0), (0, 0, 1, 0), (0, 0, 1, 0), (0, 0, 1, 0), (0, 0, 1, 0), (0, 0, 0, 1), (0, 0, 0, 1), (1, 0, 0, 1), (1, 0, 1, 0), (0, 0, 1, 0), (1, 0, 1, 0), (1, 0, 0, 1), (0, 0, 1, 1), (1, 0, 1, 0), (1, 0, 0, 1), (1, 0, 0, 0), (0, 0, 0, 1), (0, 0, 1, 0), (0, 0, 1, 0), (0, 0, 1, 0), (0, 0, 1, 0), (0, 0, 0, 0), (0, 0, 0, 1), (0, 0, 0, 1), (0, 0, 0, 1), (0, 0, 1, 0), (0, 0, 1, 0), (0, 0, 1, 0), (0, 0, 1, 0), (1, 0, 0, 0), (1, 0, 0, 1), (0, 0, 0, 1), (0, 0, 0, 1), (0, 0, 1, 0), (0, 0, 1, 0), (0, 0, 1, 0), (0, 0, 0, 1), (1, 0, 0, 1), (1, 0, 0, 0), (1, 0, 0, 0), (0, 0, 1, 0), (0, 0, 1, 0), (0, 0, 0, 1), (0, 0, 0, 1), (0, 0, 0, 0), (0, 0, 1, 0), (0, 0, 1, 0), (0, 0, 0, 1), (0, 0, 0, 0), (0, 0, 0, 0), (0, 0, 0, 0), (0, 0, 0, 0), (0, 0, 0, 0), (0, 0, 0, 0), (0, 0, 0, 0), (0, 0, 0, 0), (0, 0, 0, 0), (0, 0, 0, 0), (0, 0, 0, 0)]\n",
      "Individual: individual_1, Fitness Score: 0.2430, Controls: [(0, 0, 0, 0), (0, 0, 0, 0), (0, 0, 0, 0), (0, 0, 0, 0), (0, 0, 0, 0), (0, 0, 0, 0), (0, 0, 0, 0), (0, 0, 0, 0), (0, 0, 0, 0), (0, 0, 0, 0), (0, 0, 0, 0), (0, 0, 0, 0), (0, 0, 0, 0), (1, 0, 0, 0), (1, 0, 0, 0), (0, 0, 0, 0), (0, 0, 0, 0), (0, 0, 0, 0), (1, 0, 0, 0), (1, 0, 0, 0), (1, 0, 0, 0), (1, 0, 1, 0), (1, 0, 1, 0), (1, 0, 0, 0), (1, 0, 0, 0), (1, 0, 0, 0), (1, 0, 0, 0), (1, 0, 0, 0), (1, 0, 0, 0), (1, 0, 0, 0), (1, 0, 0, 0), (1, 0, 0, 0), (1, 0, 0, 0), (1, 0, 0, 0), (1, 0, 1, 0), (0, 0, 1, 0), (0, 0, 1, 0), (0, 0, 1, 0), (1, 0, 1, 0), (1, 0, 1, 0), (1, 0, 0, 0), (1, 0, 0, 0), (1, 0, 0, 0), (1, 0, 0, 0), (1, 0, 0, 0), (1, 0, 0, 0), (1, 0, 0, 0), (0, 0, 0, 0), (0, 0, 0, 0), (0, 0, 0, 0), (0, 0, 0, 0), (0, 0, 0, 0), (0, 0, 0, 0), (0, 0, 0, 0), (0, 0, 0, 0), (0, 0, 0, 0), (0, 0, 0, 0)]\n",
      "\n",
      "Generation 1:\n",
      "Mutated Population:\n",
      "Individual: (0, 0, 0, 0), Controls: (0, 0, 0, 0)\n",
      "Individual: child_1, Controls: [(0, 1, 1, 0), (0, 0, 1, 0), (0, 1, 1, 1), (1, 1, 1, 0), (0, 0, 0, 0), (1, 1, 0, 0), (1, 0, 0, 0), (1, 1, 0, 0), (0, 0, 0, 0), (0, 1, 1, 1), (1, 1, 1, 0), (0, 1, 1, 0), (1, 1, 0, 1), (0, 1, 0, 1), (1, 0, 0, 1), (1, 1, 1, 1), (1, 1, 1, 0), (0, 0, 0, 1), (0, 0, 1, 1), (1, 1, 0, 0), (0, 0, 0, 0), (1, 0, 0, 1), (0, 1, 1, 1), (1, 0, 0, 0), (0, 0, 1, 0), (0, 1, 1, 0), (1, 0, 1, 1), (1, 1, 1, 1), (1, 1, 1, 0), (1, 0, 1, 1), (0, 1, 1, 0), (0, 0, 0, 1), (0, 1, 0, 1), (1, 0, 1, 1), (1, 0, 0, 0), (1, 1, 0, 0), (0, 0, 1, 1), (0, 1, 0, 0), (0, 0, 0, 0), (0, 0, 1, 1), (1, 0, 0, 0), (0, 1, 0, 0), (0, 0, 1, 1), (1, 0, 1, 0), (1, 0, 0, 1), (0, 0, 1, 1), (1, 1, 0, 0), (1, 0, 0, 0), (1, 0, 1, 0), (1, 0, 0, 1), (0, 1, 1, 0), (1, 0, 1, 0), (0, 1, 1, 1), (1, 1, 1, 0), (1, 1, 0, 0), (1, 0, 1, 0)]\n",
      "Individual: child_2, Controls: [(1, 0, 0, 1), (0, 0, 0, 0), (0, 1, 0, 1), (0, 0, 0, 1), (1, 0, 1, 0), (1, 1, 1, 0), (0, 0, 1, 0), (0, 0, 0, 1), (1, 0, 1, 0), (0, 0, 0, 0), (1, 0, 1, 0), (0, 1, 0, 1), (1, 0, 1, 0), (1, 0, 1, 1), (0, 1, 1, 1), (1, 0, 0, 1), (1, 0, 1, 1), (0, 0, 1, 1), (1, 0, 1, 1), (1, 1, 1, 1), (1, 1, 0, 1), (0, 1, 1, 1), (1, 0, 1, 0), (1, 1, 0, 1), (1, 1, 0, 1), (0, 1, 0, 1), (1, 1, 1, 0), (0, 1, 0, 0), (0, 1, 0, 0), (0, 0, 0, 1), (0, 1, 1, 1), (1, 0, 0, 0), (0, 0, 0, 0), (1, 1, 1, 0), (0, 0, 0, 0), (1, 0, 1, 1), (0, 1, 1, 0), (0, 1, 1, 0), (0, 0, 0, 0), (0, 1, 0, 1), (0, 1, 1, 1), (1, 1, 0, 0), (1, 0, 1, 0), (0, 0, 0, 1), (1, 1, 1, 0), (1, 1, 1, 0), (1, 1, 0, 0), (0, 1, 1, 1), (0, 1, 1, 0), (0, 1, 1, 0)]\n",
      "Individual: child_3, Controls: [(0, 0, 1, 0), (0, 1, 1, 1), (0, 1, 1, 0), (0, 1, 1, 0), (1, 0, 0, 0), (1, 0, 1, 0), (1, 1, 1, 0), (0, 0, 0, 1), (1, 0, 0, 0), (0, 1, 1, 0), (0, 0, 1, 1), (1, 0, 1, 0), (1, 1, 0, 1), (0, 1, 1, 0), (0, 0, 1, 0), (0, 1, 0, 0), (1, 1, 1, 0), (0, 0, 0, 1), (0, 0, 1, 1), (1, 0, 0, 0), (1, 1, 0, 1), (0, 1, 1, 1), (1, 0, 0, 0), (0, 0, 0, 1), (0, 0, 1, 0), (0, 1, 0, 0), (1, 0, 0, 0), (1, 1, 1, 1), (0, 1, 0, 0), (0, 0, 0, 1), (0, 1, 0, 1), (0, 1, 0, 0), (0, 0, 1, 0), (0, 1, 1, 1), (0, 0, 0, 1), (1, 1, 0, 1), (0, 0, 0, 0), (1, 1, 0, 1), (0, 1, 0, 0), (1, 0, 1, 0), (0, 0, 1, 0), (0, 0, 0, 1), (0, 1, 0, 0), (1, 1, 1, 1), (0, 1, 1, 0), (1, 1, 0, 0), (1, 0, 1, 0), (0, 1, 1, 1), (0, 0, 1, 1), (0, 0, 0, 1), (0, 1, 1, 0), (0, 1, 1, 0), (0, 1, 1, 0), (1, 0, 1, 0), (0, 0, 0, 1), (1, 0, 0, 0), (1, 1, 1, 1)]\n",
      "Individual: child_4, Controls: [(1, 0, 1, 0), (1, 1, 1, 1), (1, 1, 1, 0), (0, 0, 1, 0), (1, 0, 1, 0), (1, 1, 1, 1), (1, 0, 0, 0), (0, 0, 0, 1), (1, 0, 0, 1), (0, 1, 1, 0), (0, 0, 0, 1), (1, 0, 0, 0), (1, 0, 1, 1), (1, 0, 1, 0), (0, 1, 0, 0), (0, 0, 1, 1), (1, 0, 1, 0), (0, 0, 0, 0), (0, 0, 1, 0), (1, 0, 1, 0), (1, 0, 1, 0), (1, 0, 0, 1), (0, 1, 0, 1), (0, 1, 1, 1), (1, 0, 0, 1), (0, 0, 1, 1), (1, 0, 0, 1), (1, 0, 1, 0), (1, 0, 0, 1), (0, 0, 1, 1), (1, 1, 1, 1), (1, 0, 1, 1), (0, 0, 1, 1), (0, 0, 0, 0), (0, 0, 0, 0), (1, 1, 1, 1), (0, 1, 1, 1), (0, 1, 1, 1), (1, 0, 1, 1), (0, 0, 0, 1), (1, 1, 0, 1), (0, 0, 1, 0), (1, 0, 1, 1), (0, 0, 1, 1), (1, 0, 1, 1), (0, 0, 1, 0), (0, 1, 1, 1), (1, 0, 0, 0), (1, 0, 1, 0), (1, 0, 0, 0)]\n",
      "Individual: child_5, Controls: [(0, 1, 1, 0), (0, 1, 1, 1), (0, 0, 1, 1), (1, 1, 1, 0), (0, 1, 1, 0), (0, 1, 1, 0), (0, 0, 1, 0), (0, 0, 1, 0), (1, 1, 0, 1), (0, 1, 1, 1), (1, 0, 0, 1), (0, 0, 0, 1), (1, 1, 0, 1), (1, 0, 1, 1), (1, 1, 1, 0), (0, 0, 1, 1), (1, 1, 0, 0), (0, 0, 1, 1), (1, 1, 0, 1), (0, 1, 0, 1), (1, 1, 1, 0), (0, 1, 0, 0), (0, 1, 0, 1), (1, 0, 0, 0), (0, 0, 0, 0), (0, 1, 0, 1), (0, 0, 0, 1), (0, 1, 1, 0), (0, 1, 1, 0), (0, 1, 0, 1), (1, 1, 0, 1), (0, 0, 1, 0), (1, 1, 1, 0), (1, 1, 0, 1), (0, 1, 1, 0), (1, 0, 1, 0), (0, 0, 0, 0), (1, 1, 1, 1), (1, 1, 0, 1), (0, 1, 1, 1), (1, 0, 0, 1), (1, 0, 1, 0), (1, 1, 1, 0), (1, 0, 0, 0), (0, 1, 0, 1), (0, 0, 0, 1), (0, 1, 1, 1), (0, 1, 1, 1), (0, 1, 0, 1), (0, 1, 1, 1), (0, 1, 0, 0), (0, 0, 1, 0), (0, 0, 1, 1), (0, 1, 1, 1), (1, 1, 0, 1), (0, 1, 0, 1), (0, 0, 0, 0)]\n",
      "\n",
      "Generation 2:\n",
      "Mutated Population:\n",
      "Individual: (0, 0, 0, 0), Controls: (0, 0, 0, 0)\n",
      "Individual: child_1, Controls: [(0, 1, 0, 0), (0, 1, 0, 0), (1, 0, 1, 1), (0, 1, 1, 1), (0, 0, 1, 1), (0, 0, 0, 1), (1, 0, 1, 1), (0, 0, 1, 1), (0, 1, 0, 1), (0, 1, 0, 0), (1, 0, 0, 0), (1, 1, 1, 0), (0, 1, 0, 0), (1, 0, 0, 1), (1, 0, 0, 1), (0, 1, 0, 0), (1, 1, 1, 0), (1, 1, 0, 0), (1, 0, 0, 0), (0, 1, 1, 0), (1, 1, 0, 0), (0, 0, 1, 1), (1, 1, 0, 0), (1, 0, 0, 1), (1, 0, 1, 1), (0, 1, 1, 0), (1, 0, 1, 0), (0, 1, 1, 1), (0, 0, 0, 0), (0, 1, 1, 1), (1, 0, 0, 1), (1, 1, 1, 0), (1, 1, 1, 0), (1, 1, 0, 1), (1, 0, 1, 0), (0, 1, 0, 1), (0, 0, 0, 1), (1, 0, 0, 1), (0, 1, 0, 0), (0, 1, 0, 0), (1, 0, 0, 0), (1, 1, 1, 0), (0, 0, 1, 1), (0, 1, 1, 1), (1, 1, 0, 0), (1, 1, 0, 1), (0, 0, 1, 0), (0, 1, 0, 0), (0, 0, 1, 0), (0, 1, 1, 1)]\n",
      "Individual: child_2, Controls: [(0, 1, 1, 1), (1, 0, 0, 1), (0, 1, 1, 0), (1, 0, 1, 0), (1, 1, 0, 1), (0, 0, 0, 1), (1, 0, 0, 0), (0, 1, 1, 0), (1, 1, 0, 1), (1, 0, 0, 1), (0, 1, 1, 0), (0, 1, 0, 0), (0, 0, 1, 1), (0, 0, 0, 0), (0, 1, 1, 0), (0, 1, 1, 1), (1, 0, 0, 1), (1, 0, 1, 0), (0, 0, 0, 1), (1, 1, 1, 0), (0, 1, 0, 0), (1, 1, 1, 0), (0, 1, 1, 1), (1, 1, 1, 1), (0, 1, 0, 1), (1, 0, 0, 1), (1, 0, 0, 1), (1, 0, 1, 1), (0, 1, 0, 1), (1, 1, 1, 0), (1, 1, 0, 1), (0, 1, 0, 0), (0, 1, 0, 1), (1, 0, 1, 1), (0, 1, 0, 0), (1, 0, 1, 0), (0, 0, 0, 0), (0, 1, 1, 1), (1, 1, 1, 0), (1, 0, 0, 1), (0, 0, 1, 0), (1, 1, 1, 0), (0, 0, 0, 0), (0, 1, 1, 0), (0, 1, 1, 1), (0, 1, 1, 1), (1, 1, 0, 1), (1, 0, 0, 0), (0, 0, 0, 0), (0, 0, 1, 1), (0, 0, 0, 1), (0, 0, 0, 0), (0, 0, 1, 1), (0, 1, 1, 0), (1, 0, 1, 0), (1, 0, 0, 1), (0, 1, 1, 0)]\n",
      "Individual: child_3, Controls: [(1, 0, 1, 1), (1, 1, 0, 0), (1, 0, 0, 1), (0, 1, 1, 0), (1, 1, 0, 0), (0, 1, 0, 1), (1, 0, 0, 0), (1, 1, 0, 1), (0, 1, 1, 1), (0, 1, 1, 1), (0, 0, 1, 1), (0, 1, 1, 1), (0, 1, 0, 1), (0, 0, 0, 0), (0, 0, 1, 1), (1, 0, 1, 1), (1, 1, 0, 1), (1, 1, 0, 1), (0, 0, 0, 0), (0, 0, 0, 0), (0, 0, 0, 1), (1, 0, 1, 1), (0, 1, 1, 0), (1, 0, 1, 0), (1, 1, 0, 1), (0, 1, 1, 0), (0, 1, 1, 1), (0, 1, 0, 0), (0, 0, 0, 1), (1, 1, 1, 1), (0, 0, 1, 0), (0, 1, 1, 0), (0, 1, 0, 0), (0, 1, 1, 1), (1, 0, 0, 0), (1, 0, 1, 0), (0, 1, 0, 1), (1, 1, 1, 0), (0, 0, 0, 0), (1, 1, 1, 0), (1, 0, 1, 1), (0, 0, 0, 1), (0, 0, 0, 0), (0, 1, 1, 1), (0, 0, 0, 1), (0, 1, 1, 1), (0, 0, 1, 1), (0, 0, 1, 1), (1, 0, 1, 0), (1, 0, 1, 0), (0, 1, 1, 0), (1, 1, 0, 0), (0, 1, 1, 1), (1, 1, 0, 1), (1, 0, 1, 1), (1, 0, 1, 0)]\n",
      "Individual: child_4, Controls: [(1, 0, 1, 0), (0, 0, 0, 1), (0, 1, 0, 1), (1, 0, 0, 0), (0, 0, 1, 1), (1, 0, 0, 1), (0, 0, 0, 0), (0, 0, 0, 0), (0, 1, 1, 0), (1, 0, 0, 0), (0, 1, 1, 1), (0, 1, 0, 1), (0, 1, 1, 1), (0, 0, 1, 0), (0, 0, 1, 0), (1, 0, 0, 1), (0, 0, 0, 0), (1, 1, 1, 1), (0, 1, 1, 0), (1, 1, 0, 1), (0, 1, 0, 0), (1, 1, 1, 1), (0, 0, 1, 1), (1, 1, 1, 0), (1, 0, 1, 1), (0, 1, 1, 0), (0, 1, 0, 0), (1, 1, 1, 0), (1, 0, 1, 1), (1, 1, 0, 1), (1, 0, 0, 0), (0, 1, 1, 0), (0, 0, 0, 0), (0, 1, 0, 1), (0, 1, 1, 0), (1, 1, 0, 1), (1, 1, 1, 1), (1, 1, 1, 0), (1, 1, 1, 1), (1, 1, 1, 0), (0, 0, 1, 0), (1, 0, 0, 0), (0, 0, 0, 0), (0, 1, 1, 0), (0, 0, 0, 0), (1, 1, 1, 1), (0, 1, 0, 1), (1, 1, 0, 1), (1, 1, 0, 1), (1, 1, 0, 1)]\n",
      "Individual: child_5, Controls: [(0, 0, 1, 1), (1, 0, 0, 0), (1, 1, 1, 0), (0, 1, 0, 0), (1, 0, 1, 1), (0, 0, 1, 0), (1, 1, 1, 0), (0, 1, 1, 0), (1, 1, 0, 0), (0, 1, 1, 0), (0, 1, 1, 1), (0, 0, 1, 0), (1, 1, 1, 0), (0, 1, 1, 1), (0, 1, 0, 0), (1, 0, 1, 1), (1, 0, 0, 1), (1, 1, 0, 0), (1, 0, 0, 0), (1, 0, 1, 1), (1, 0, 1, 1), (1, 0, 1, 1), (0, 0, 0, 1), (0, 1, 1, 1), (1, 0, 0, 1), (1, 1, 1, 0), (1, 0, 1, 0), (1, 0, 1, 0), (0, 0, 0, 1), (0, 0, 0, 0), (0, 0, 0, 1), (1, 1, 1, 0), (1, 1, 0, 1), (0, 0, 0, 1), (1, 1, 0, 0), (1, 1, 1, 1), (0, 1, 0, 0), (0, 1, 0, 0), (1, 1, 1, 0), (1, 1, 1, 0), (0, 1, 1, 0), (0, 0, 1, 0), (0, 0, 0, 0), (0, 0, 1, 1), (0, 1, 1, 0), (0, 0, 0, 0), (1, 0, 0, 1), (1, 0, 0, 1), (0, 0, 0, 0), (1, 1, 1, 1), (1, 0, 0, 0), (0, 1, 1, 1), (0, 0, 1, 0), (1, 1, 0, 0), (1, 0, 1, 0), (0, 1, 0, 0), (0, 1, 0, 0)]\n"
     ]
    }
   ],
   "source": [
    "final_pop = genetic_algorithm(generation=2, mutation_rate=0.1, population_size=6, elitism_count=1)\n"
   ]
  }
 ],
 "metadata": {
  "kernelspec": {
   "display_name": ".venv",
   "language": "python",
   "name": "python3"
  },
  "language_info": {
   "codemirror_mode": {
    "name": "ipython",
    "version": 3
   },
   "file_extension": ".py",
   "mimetype": "text/x-python",
   "name": "python",
   "nbconvert_exporter": "python",
   "pygments_lexer": "ipython3",
   "version": "3.10.7"
  }
 },
 "nbformat": 4,
 "nbformat_minor": 2
}
