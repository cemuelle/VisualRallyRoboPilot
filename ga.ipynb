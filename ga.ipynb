{
 "cells": [
  {
   "cell_type": "markdown",
   "metadata": {},
   "source": [
    "## GENETIC ALGORITHM"
   ]
  },
  {
   "cell_type": "code",
   "execution_count": null,
   "metadata": {
    "vscode": {
     "languageId": "plaintext"
    }
   },
   "outputs": [],
   "source": []
  },
  {
   "cell_type": "markdown",
   "metadata": {},
   "source": [
    "## Gather data\n",
    "\n",
    "Example for a turn in a road\n",
    "\n",
    "Visualize my data \n",
    "\n",
    "- Controls[forward,back,left,right]\n",
    "- Sequential Images \n",
    "- Link each image to a specific control\n",
    "\n",
    "\n",
    "Data Augmentation\n",
    "\n",
    "- Multiply the same trajectory from point A to point B.\n",
    "- This creates differents individual.\n",
    "\n",
    "Genetic Algorithm\n",
    "\n",
    "- Individual: each trajectory\n",
    "- Genome: each individual input which creates the trajectory\n",
    "- Population: Total of all the individual"
   ]
  },
  {
   "cell_type": "code",
   "execution_count": null,
   "metadata": {
    "vscode": {
     "languageId": "plaintext"
    }
   },
   "outputs": [],
   "source": []
  }
 ],
 "metadata": {
  "language_info": {
   "name": "python"
  }
 },
 "nbformat": 4,
 "nbformat_minor": 2
}
